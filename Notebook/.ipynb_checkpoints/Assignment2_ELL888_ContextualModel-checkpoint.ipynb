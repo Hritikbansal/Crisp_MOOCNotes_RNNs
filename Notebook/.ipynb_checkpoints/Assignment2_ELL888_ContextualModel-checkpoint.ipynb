{
 "cells": [
  {
   "cell_type": "code",
   "execution_count": 1,
   "metadata": {
    "_cell_guid": "b1076dfc-b9ad-4769-8c92-a6c4dae69d19",
    "_uuid": "8f2839f25d086af736a60e9eeb907d3b93b6e0e5"
   },
   "outputs": [],
   "source": [
    "# This Python 3 environment comes with many helpful analytics libraries installed\n",
    "# It is defined by the kaggle/python docker image: https://github.com/kaggle/docker-python\n",
    "# For example, here's several helpful packages to load in \n",
    "\n",
    "import numpy as np # linear algebra\n",
    "import pandas as pd # data processing, CSV file I/O (e.g. pd.read_csv)\n",
    "import torch\n",
    "import torchvision\n",
    "import torch.nn as nn\n",
    "import torchvision.transforms as transforms\n",
    "\n",
    "import os \n",
    "from shutil import copy2\n",
    "from tqdm import tqdm_notebook as tqdm\n",
    "import math\n",
    "\n",
    "from PIL import Image\n",
    "import matplotlib.pyplot as plt\n",
    "# Any results you write to the current directory are saved as output."
   ]
  },
  {
   "cell_type": "code",
   "execution_count": 2,
   "metadata": {},
   "outputs": [
    {
     "name": "stdout",
     "output_type": "stream",
     "text": [
      "['lec35', 'lec1', 'lec5', 'lec11', 'lec25', 'lec33', 'lec20', 'lec6', 'lec8', 'lec19', 'lec7', 'lec4', 'lec31', 'lec14', 'lec22', 'lec9', 'lec30', 'lec23', 'lec34', 'lec13', 'lec32', 'lec17', 'lec26', 'lec21', 'lec28', 'lec16', 'lec27', 'lec10', 'lec29', 'lec18', 'lec24', 'lec3', 'lec2', 'lec15', 'lec12']\n"
     ]
    }
   ],
   "source": [
    "root=\"../input/assignment2/training/frames/\"\n",
    "print(os.listdir(root))"
   ]
  },
  {
   "cell_type": "code",
   "execution_count": 3,
   "metadata": {
    "_cell_guid": "79c7e3d0-c299-4dcb-8224-4455121ee9b0",
    "_uuid": "d629ff2d2480ee46fbb7e2d37f6b5fab8052498a"
   },
   "outputs": [],
   "source": [
    "#defining the first convolutional network without panaroma\n",
    "\n",
    "class ConvNet1(nn.Module):\n",
    "    def __init__(self):\n",
    "        super(ConvNet1,self).__init__()\n",
    "        \n",
    "        self.layer1a=nn.Sequential(\n",
    "                    nn.Conv2d(3,16,kernel_size=5,stride=2), #118,158,16\n",
    "                    nn.BatchNorm2d(16),\n",
    "                    nn.ReLU(),\n",
    "                    nn.MaxPool2d(kernel_size=2,stride=2)) #59,79,16 \n",
    "        self.layer2a=nn.Sequential(\n",
    "                    nn.Conv2d(16,32,kernel_size=3,stride=2),  #29,39,32\n",
    "                    nn.BatchNorm2d(32),\n",
    "                    nn.ReLU(),\n",
    "                    nn.MaxPool2d(kernel_size=2,stride=2)) #14,19,32\n",
    "        self.layer3a=nn.Sequential(\n",
    "                    nn.Conv2d(32,8,kernel_size=3,stride=2), #6,9,8\n",
    "                    nn.BatchNorm2d(8),\n",
    "                    nn.ReLU(),\n",
    "                    nn.MaxPool2d(kernel_size=5,stride=2))#1,3,8\n",
    "        \n",
    "        self.layer1b=nn.Sequential(\n",
    "                    nn.Conv2d(3,16,kernel_size=5,stride=3), #79,532,16\n",
    "                    nn.BatchNorm2d(16),\n",
    "                    nn.ReLU(),\n",
    "                    nn.MaxPool2d(kernel_size=2,stride=1)) #78,531,16\n",
    "        self.layer2b=nn.Sequential(\n",
    "                    nn.Conv2d(16,32,kernel_size=7,stride=4,padding=20), #28,142,32\n",
    "                    nn.BatchNorm2d(32),\n",
    "                    nn.ReLU(),\n",
    "                    nn.MaxPool2d(kernel_size=2,stride=2)) #13,70,32\n",
    "        self.layer3b=nn.Sequential(\n",
    "                    nn.Conv2d(32,8,kernel_size=5,stride=4,padding=10), #8,22,8 \n",
    "                    nn.BatchNorm2d(8),\n",
    "                    nn.ReLU(),\n",
    "                    nn.MaxPool2d(kernel_size=8,stride=5)) #1,3,8\n",
    "        \n",
    "        self.fc1=nn.Linear(1*3*16,1) \n",
    "        \n",
    "\n",
    "    def forward(self, x): # x is a tensor\n",
    "\n",
    "        _x=x[:,:,:,641:961]  #taking the middle image of the panaroma that we are considering \n",
    "        #print(_x.shape)\n",
    "        out1=self.layer1a(_x)  \n",
    "        #print(out1.shape)\n",
    "        out1=self.layer2a(out1)\n",
    "        #print(out1.shape)\n",
    "        out1=self.layer3a(out1)\n",
    "        #print(out1.shape)\n",
    "\n",
    "        out2=self.layer1b(x)\n",
    "        out2=self.layer2b(out2)\n",
    "        out2=self.layer3b(out2)\n",
    "\n",
    "        out=torch.cat((out1,out2),1)\n",
    "        out = out.reshape(out.size(0), -1)\n",
    "        out= self.fc1(out)\n",
    "\n",
    "        y_out=nn.Sigmoid()(out)\n",
    "\n",
    "        return y_out\n"
   ]
  },
  {
   "cell_type": "code",
   "execution_count": 4,
   "metadata": {},
   "outputs": [
    {
     "name": "stdout",
     "output_type": "stream",
     "text": [
      "['copied', 'copied_labels']\n"
     ]
    }
   ],
   "source": [
    "root2=\"../input/annotated-data/annotated/\"\n",
    "print(os.listdir(root2))"
   ]
  },
  {
   "cell_type": "code",
   "execution_count": 5,
   "metadata": {},
   "outputs": [],
   "source": [
    "loc_xdata=root2+\"copied/\"\n",
    "loc_ydata=root2+\"copied_labels/\""
   ]
  },
  {
   "cell_type": "code",
   "execution_count": 6,
   "metadata": {},
   "outputs": [
    {
     "data": {
      "text/plain": [
       "['l49s00672.jpg',\n",
       " 'l49s00674.jpg',\n",
       " 'l49s00675.jpg',\n",
       " 'l49s00671.jpg',\n",
       " 'l49s00673.jpg']"
      ]
     },
     "execution_count": 6,
     "metadata": {},
     "output_type": "execute_result"
    }
   ],
   "source": [
    "os.listdir(loc_xdata)\n",
    "os.listdir(loc_xdata+os.listdir(loc_xdata)[0])"
   ]
  },
  {
   "cell_type": "code",
   "execution_count": 7,
   "metadata": {},
   "outputs": [],
   "source": [
    "#function to merge the images given the folder\n",
    "\n",
    "def Merge_Image(images_path):\n",
    "    im1=np.asarray(Image.open(images_path+os.listdir(images_path)[0]).resize((320, 240), Image.ANTIALIAS))\n",
    "    for i in range(len(os.listdir(images_path))-1):\n",
    "        im2=np.asarray(Image.open(images_path+os.listdir(images_path)[i+1]).resize((320, 240), Image.ANTIALIAS))\n",
    "        #print(\"im2:\"+str(im2.shape))\n",
    "        im1=np.concatenate((im1,im2),axis=1)\n",
    "        #print(\"im1:\"+str(im1.shape))\n",
    "    \n",
    "    #print(im1.shape)\n",
    "    return im1 #required panaroma view \n",
    "    \n",
    "    "
   ]
  },
  {
   "cell_type": "code",
   "execution_count": 8,
   "metadata": {},
   "outputs": [
    {
     "data": {
      "text/plain": [
       "<matplotlib.image.AxesImage at 0x7fbd8d3eb5f8>"
      ]
     },
     "execution_count": 8,
     "metadata": {},
     "output_type": "execute_result"
    },
    {
     "data": {
      "image/png": "[encoded data removed]",
      "text/plain": [
       "<Figure size 432x288 with 1 Axes>"
      ]
     },
     "metadata": {},
     "output_type": "display_data"
    }
   ],
   "source": [
    "t=Merge_Image(\"../input/annotated-data/annotated/copied/1/\")\n",
    "t.shape\n",
    "plt.imshow(t)"
   ]
  },
  {
   "cell_type": "code",
   "execution_count": 9,
   "metadata": {},
   "outputs": [],
   "source": [
    "Li=os.listdir(loc_xdata)"
   ]
  },
  {
   "cell_type": "code",
   "execution_count": null,
   "metadata": {},
   "outputs": [],
   "source": [
    "#loading the data\n",
    "x_data=[]\n",
    "y_data=np.array([])\n",
    "for i in tqdm(range(len(os.listdir(loc_xdata)))):\n",
    "        #function to return the merged images\n",
    "        fname=os.listdir(loc_xdata)[i]\n",
    "        path=loc_xdata+fname+\"/\"\n",
    "        X_merged=Merge_Image(path)\n",
    "        x_data.append(X_merged)\n",
    "    \n",
    "        asso_y=np.load(loc_ydata+fname+\".npy\")\n",
    "        y_data=np.append(y_data,asso_y[2]) #taking the middle value out of all "
   ]
  },
  {
   "cell_type": "code",
   "execution_count": 16,
   "metadata": {},
   "outputs": [],
   "source": [
    "def Return_data(li,k):\n",
    "    \n",
    "    x_data=[]\n",
    "    y_data=np.array([])\n",
    "    #for i in tqdm(range(len(os.listdir(loc_xdata)))):\n",
    "    for i in tqdm(range(500*k,500*(k+1))):\n",
    "        #function to return the merged images\n",
    "        fname=li[i]\n",
    "        path=loc_xdata+fname+\"/\"\n",
    "        X_merged=Merge_Image(path)\n",
    "        x_data.append(X_merged)\n",
    "    \n",
    "        asso_y=np.load(loc_ydata+fname+\".npy\")\n",
    "        y_data=np.append(y_data,asso_y[2]) #taking the middle value out of all\n",
    "    \n",
    "    x_data=np.array(x_data)\n",
    "    x_data = np.rollaxis(x_data,3, 1)\n",
    "    y_data=np.expand_dims(y_data,axis=1)\n",
    "    print(x_data.shape)\n",
    "    print(y_data.shape)\n",
    "    return (x_data,y_data)"
   ]
  },
  {
   "cell_type": "code",
   "execution_count": 28,
   "metadata": {},
   "outputs": [],
   "source": [
    "def Return_Testdata(li):\n",
    "    \n",
    "    x_data=[]\n",
    "    y_data=np.array([])\n",
    "    #for i in tqdm(range(len(os.listdir(loc_xdata)))):\n",
    "    for i in tqdm(range(5000,5840)):\n",
    "        #function to return the merged images\n",
    "        fname=li[i]\n",
    "        path=loc_xdata+fname+\"/\"\n",
    "        X_merged=Merge_Image(path)\n",
    "        x_data.append(X_merged)\n",
    "    \n",
    "        asso_y=np.load(loc_ydata+fname+\".npy\")\n",
    "        y_data=np.append(y_data,asso_y[2]) #taking the middle value out of all\n",
    "    \n",
    "    x_data=np.array(x_data)\n",
    "    x_data = np.rollaxis(x_data,3, 1)\n",
    "    y_data=np.expand_dims(y_data,axis=1)\n",
    "    print(x_data.shape)\n",
    "    print(y_data.shape)\n",
    "    return (x_data,y_data)"
   ]
  },
  {
   "cell_type": "code",
   "execution_count": null,
   "metadata": {},
   "outputs": [],
   "source": [
    "x_data1 = np.asarray(x_data[0:1000])\n",
    "x_data2 = np.asarray(x_data[1000:2000])\n",
    "x_data3 = np.asarray(x_data[2000:3000])\n",
    "x_data4 = np.asarray(x_data[3000:4000])\n",
    "x_data5 = np.asarray(x_data[4000:5000])\n",
    "x_data6 = np.asarray(x_data[5000:])\n",
    "\n",
    "y_data1=np.expand_dims(y_data[0:1000],axis=1)\n",
    "y_data2=np.expand_dims(y_data[1000:2000],axis=1)\n",
    "y_data3=np.expand_dims(y_data[2000:3000],axis=1)\n",
    "y_data4=np.expand_dims(y_data[3000:4000],axis=1)\n",
    "y_data5=np.expand_dims(y_data[4000:5000],axis=1)\n",
    "y_data6=np.expand_dims(y_data[5000:],axis=1)"
   ]
  },
  {
   "cell_type": "code",
   "execution_count": null,
   "metadata": {},
   "outputs": [],
   "source": [
    "x_data1 = np.rollaxis(x_data1,3, 1)\n",
    "x_data2 = np.rollaxis(x_data2,3, 1)\n",
    "x_data3 = np.rollaxis(x_data3,3, 1)\n",
    "x_data4 = np.rollaxis(x_data4,3, 1)\n",
    "x_data5 = np.rollaxis(x_data5,3, 1)\n",
    "x_data6 = np.rollaxis(x_data6,3, 1)"
   ]
  },
  {
   "cell_type": "code",
   "execution_count": null,
   "metadata": {},
   "outputs": [],
   "source": [
    "data_d = {'data1':(x_data1,y_data1) ,'data2': (x_data2,y_data2),'data3':(x_data3,y_data3),'data4':(x_data4,y_data4),'data5':(x_data5,y_data5)\n",
    "          }"
   ]
  },
  {
   "cell_type": "code",
   "execution_count": null,
   "metadata": {},
   "outputs": [],
   "source": [
    "x_data1.shape\n",
    "y_data1.shape"
   ]
  },
  {
   "cell_type": "code",
   "execution_count": 19,
   "metadata": {},
   "outputs": [],
   "source": [
    " #Device configuration\n",
    "device = torch.device('cuda:0' if torch.cuda.is_available() else 'cpu')\n",
    "\n",
    "# Hyper parameters\n",
    "num_epochs = 3\n",
    "learning_rate = 0.05"
   ]
  },
  {
   "cell_type": "code",
   "execution_count": 20,
   "metadata": {},
   "outputs": [],
   "source": [
    "model = ConvNet1().to(device)\n",
    "optimizer = torch.optim.Adam(model.parameters(), lr=learning_rate)"
   ]
  },
  {
   "cell_type": "code",
   "execution_count": 21,
   "metadata": {},
   "outputs": [
    {
     "data": {
      "application/vnd.jupyter.widget-view+json": {
       "model_id": "f100a339f81e4fb48e8dc80a6e13c7c8",
       "version_major": 2,
       "version_minor": 0
      },
      "text/plain": [
       "HBox(children=(IntProgress(value=0, max=3), HTML(value='')))"
      ]
     },
     "metadata": {},
     "output_type": "display_data"
    },
    {
     "data": {
      "application/vnd.jupyter.widget-view+json": {
       "model_id": "8431527b214d4dcb8bfd088fe6331cca",
       "version_major": 2,
       "version_minor": 0
      },
      "text/plain": [
       "HBox(children=(IntProgress(value=0, max=10), HTML(value='')))"
      ]
     },
     "metadata": {},
     "output_type": "display_data"
    },
    {
     "data": {
      "application/vnd.jupyter.widget-view+json": {
       "model_id": "787461f362dc4fd884725be3c984a434",
       "version_major": 2,
       "version_minor": 0
      },
      "text/plain": [
       "HBox(children=(IntProgress(value=0, max=500), HTML(value='')))"
      ]
     },
     "metadata": {},
     "output_type": "display_data"
    },
    {
     "name": "stdout",
     "output_type": "stream",
     "text": [
      "(500, 3, 240, 1600)\n",
      "(500, 1)\n",
      "Epoch [1/3], Step [2/11], Loss: 0.7170\n"
     ]
    },
    {
     "data": {
      "application/vnd.jupyter.widget-view+json": {
       "model_id": "10aaed9ad1ae43cbb1c47146a9f62413",
       "version_major": 2,
       "version_minor": 0
      },
      "text/plain": [
       "HBox(children=(IntProgress(value=0, max=500), HTML(value='')))"
      ]
     },
     "metadata": {},
     "output_type": "display_data"
    },
    {
     "name": "stdout",
     "output_type": "stream",
     "text": [
      "(500, 3, 240, 1600)\n",
      "(500, 1)\n",
      "Epoch [1/3], Step [3/11], Loss: 0.2319\n"
     ]
    },
    {
     "data": {
      "application/vnd.jupyter.widget-view+json": {
       "model_id": "c39642ef1b734dc98f05eb13ef0ac690",
       "version_major": 2,
       "version_minor": 0
      },
      "text/plain": [
       "HBox(children=(IntProgress(value=0, max=500), HTML(value='')))"
      ]
     },
     "metadata": {},
     "output_type": "display_data"
    },
    {
     "name": "stdout",
     "output_type": "stream",
     "text": [
      "(500, 3, 240, 1600)\n",
      "(500, 1)\n",
      "Epoch [1/3], Step [4/11], Loss: 0.1956\n"
     ]
    },
    {
     "data": {
      "application/vnd.jupyter.widget-view+json": {
       "model_id": "a1d5a49ad6284af09957b7231dca26de",
       "version_major": 2,
       "version_minor": 0
      },
      "text/plain": [
       "HBox(children=(IntProgress(value=0, max=500), HTML(value='')))"
      ]
     },
     "metadata": {},
     "output_type": "display_data"
    },
    {
     "name": "stdout",
     "output_type": "stream",
     "text": [
      "(500, 3, 240, 1600)\n",
      "(500, 1)\n",
      "Epoch [1/3], Step [5/11], Loss: 0.1545\n"
     ]
    },
    {
     "data": {
      "application/vnd.jupyter.widget-view+json": {
       "model_id": "4a33ca846c6b4b61ab65a28fbd6e5b61",
       "version_major": 2,
       "version_minor": 0
      },
      "text/plain": [
       "HBox(children=(IntProgress(value=0, max=500), HTML(value='')))"
      ]
     },
     "metadata": {},
     "output_type": "display_data"
    },
    {
     "name": "stdout",
     "output_type": "stream",
     "text": [
      "(500, 3, 240, 1600)\n",
      "(500, 1)\n",
      "Epoch [1/3], Step [6/11], Loss: 0.2384\n"
     ]
    },
    {
     "data": {
      "application/vnd.jupyter.widget-view+json": {
       "model_id": "79d435edb0734e3b9fe36cc08dfff100",
       "version_major": 2,
       "version_minor": 0
      },
      "text/plain": [
       "HBox(children=(IntProgress(value=0, max=500), HTML(value='')))"
      ]
     },
     "metadata": {},
     "output_type": "display_data"
    },
    {
     "name": "stdout",
     "output_type": "stream",
     "text": [
      "(500, 3, 240, 1600)\n",
      "(500, 1)\n",
      "Epoch [1/3], Step [7/11], Loss: 0.2663\n"
     ]
    },
    {
     "data": {
      "application/vnd.jupyter.widget-view+json": {
       "model_id": "00fa7642912b445d918117c50368d6f8",
       "version_major": 2,
       "version_minor": 0
      },
      "text/plain": [
       "HBox(children=(IntProgress(value=0, max=500), HTML(value='')))"
      ]
     },
     "metadata": {},
     "output_type": "display_data"
    },
    {
     "name": "stdout",
     "output_type": "stream",
     "text": [
      "(500, 3, 240, 1600)\n",
      "(500, 1)\n",
      "Epoch [1/3], Step [8/11], Loss: 0.1809\n"
     ]
    },
    {
     "data": {
      "application/vnd.jupyter.widget-view+json": {
       "model_id": "228c2c28ce5445319947b98a9dc23b48",
       "version_major": 2,
       "version_minor": 0
      },
      "text/plain": [
       "HBox(children=(IntProgress(value=0, max=500), HTML(value='')))"
      ]
     },
     "metadata": {},
     "output_type": "display_data"
    },
    {
     "name": "stdout",
     "output_type": "stream",
     "text": [
      "(500, 3, 240, 1600)\n",
      "(500, 1)\n",
      "Epoch [1/3], Step [9/11], Loss: 0.2181\n"
     ]
    },
    {
     "data": {
      "application/vnd.jupyter.widget-view+json": {
       "model_id": "6608baaf413b4fde8f86895d2c422676",
       "version_major": 2,
       "version_minor": 0
      },
      "text/plain": [
       "HBox(children=(IntProgress(value=0, max=500), HTML(value='')))"
      ]
     },
     "metadata": {},
     "output_type": "display_data"
    },
    {
     "name": "stdout",
     "output_type": "stream",
     "text": [
      "(500, 3, 240, 1600)\n",
      "(500, 1)\n",
      "Epoch [1/3], Step [10/11], Loss: 0.1362\n"
     ]
    },
    {
     "data": {
      "application/vnd.jupyter.widget-view+json": {
       "model_id": "12c8fed6c47f43d296d9ff0f51c0a91e",
       "version_major": 2,
       "version_minor": 0
      },
      "text/plain": [
       "HBox(children=(IntProgress(value=0, max=500), HTML(value='')))"
      ]
     },
     "metadata": {},
     "output_type": "display_data"
    },
    {
     "name": "stdout",
     "output_type": "stream",
     "text": [
      "(500, 3, 240, 1600)\n",
      "(500, 1)\n",
      "Epoch [1/3], Step [11/11], Loss: 0.1883\n"
     ]
    },
    {
     "data": {
      "application/vnd.jupyter.widget-view+json": {
       "model_id": "99b1d8e5d34a4cde9901d1bd9b0836b3",
       "version_major": 2,
       "version_minor": 0
      },
      "text/plain": [
       "HBox(children=(IntProgress(value=0, max=10), HTML(value='')))"
      ]
     },
     "metadata": {},
     "output_type": "display_data"
    },
    {
     "data": {
      "application/vnd.jupyter.widget-view+json": {
       "model_id": "43bbcd20b1f843a7835a1fb3257fbfed",
       "version_major": 2,
       "version_minor": 0
      },
      "text/plain": [
       "HBox(children=(IntProgress(value=0, max=500), HTML(value='')))"
      ]
     },
     "metadata": {},
     "output_type": "display_data"
    },
    {
     "name": "stdout",
     "output_type": "stream",
     "text": [
      "(500, 3, 240, 1600)\n",
      "(500, 1)\n",
      "Epoch [2/3], Step [2/11], Loss: 0.1740\n"
     ]
    },
    {
     "data": {
      "application/vnd.jupyter.widget-view+json": {
       "model_id": "916e955d5f8a4215aa1ef59d34433fe3",
       "version_major": 2,
       "version_minor": 0
      },
      "text/plain": [
       "HBox(children=(IntProgress(value=0, max=500), HTML(value='')))"
      ]
     },
     "metadata": {},
     "output_type": "display_data"
    },
    {
     "name": "stdout",
     "output_type": "stream",
     "text": [
      "(500, 3, 240, 1600)\n",
      "(500, 1)\n",
      "Epoch [2/3], Step [3/11], Loss: 0.2031\n"
     ]
    },
    {
     "data": {
      "application/vnd.jupyter.widget-view+json": {
       "model_id": "873caab5541a4219b377b2a89c998327",
       "version_major": 2,
       "version_minor": 0
      },
      "text/plain": [
       "HBox(children=(IntProgress(value=0, max=500), HTML(value='')))"
      ]
     },
     "metadata": {},
     "output_type": "display_data"
    },
    {
     "name": "stdout",
     "output_type": "stream",
     "text": [
      "(500, 3, 240, 1600)\n",
      "(500, 1)\n",
      "Epoch [2/3], Step [4/11], Loss: 0.1606\n"
     ]
    },
    {
     "data": {
      "application/vnd.jupyter.widget-view+json": {
       "model_id": "1f46f02455944c92991917a2eef0c1d8",
       "version_major": 2,
       "version_minor": 0
      },
      "text/plain": [
       "HBox(children=(IntProgress(value=0, max=500), HTML(value='')))"
      ]
     },
     "metadata": {},
     "output_type": "display_data"
    },
    {
     "name": "stdout",
     "output_type": "stream",
     "text": [
      "(500, 3, 240, 1600)\n",
      "(500, 1)\n",
      "Epoch [2/3], Step [5/11], Loss: 0.1231\n"
     ]
    },
    {
     "data": {
      "application/vnd.jupyter.widget-view+json": {
       "model_id": "11c5beb3894642429e70db09ca6837f7",
       "version_major": 2,
       "version_minor": 0
      },
      "text/plain": [
       "HBox(children=(IntProgress(value=0, max=500), HTML(value='')))"
      ]
     },
     "metadata": {},
     "output_type": "display_data"
    },
    {
     "name": "stdout",
     "output_type": "stream",
     "text": [
      "(500, 3, 240, 1600)\n",
      "(500, 1)\n",
      "Epoch [2/3], Step [6/11], Loss: 0.1595\n"
     ]
    },
    {
     "data": {
      "application/vnd.jupyter.widget-view+json": {
       "model_id": "ea7a35c8eb4149758ed4be54b4ff93da",
       "version_major": 2,
       "version_minor": 0
      },
      "text/plain": [
       "HBox(children=(IntProgress(value=0, max=500), HTML(value='')))"
      ]
     },
     "metadata": {},
     "output_type": "display_data"
    },
    {
     "name": "stdout",
     "output_type": "stream",
     "text": [
      "(500, 3, 240, 1600)\n",
      "(500, 1)\n",
      "Epoch [2/3], Step [7/11], Loss: 0.1679\n"
     ]
    },
    {
     "data": {
      "application/vnd.jupyter.widget-view+json": {
       "model_id": "15dcb937ca7443208fb768809cabe807",
       "version_major": 2,
       "version_minor": 0
      },
      "text/plain": [
       "HBox(children=(IntProgress(value=0, max=500), HTML(value='')))"
      ]
     },
     "metadata": {},
     "output_type": "display_data"
    },
    {
     "name": "stdout",
     "output_type": "stream",
     "text": [
      "(500, 3, 240, 1600)\n",
      "(500, 1)\n",
      "Epoch [2/3], Step [8/11], Loss: 0.1406\n"
     ]
    },
    {
     "data": {
      "application/vnd.jupyter.widget-view+json": {
       "model_id": "61e2fedc1fd34a579f3eb8c93eb2120b",
       "version_major": 2,
       "version_minor": 0
      },
      "text/plain": [
       "HBox(children=(IntProgress(value=0, max=500), HTML(value='')))"
      ]
     },
     "metadata": {},
     "output_type": "display_data"
    },
    {
     "name": "stdout",
     "output_type": "stream",
     "text": [
      "(500, 3, 240, 1600)\n",
      "(500, 1)\n",
      "Epoch [2/3], Step [9/11], Loss: 0.1578\n"
     ]
    },
    {
     "data": {
      "application/vnd.jupyter.widget-view+json": {
       "model_id": "47a84b1e9b064fda8c3034e74ca799c6",
       "version_major": 2,
       "version_minor": 0
      },
      "text/plain": [
       "HBox(children=(IntProgress(value=0, max=500), HTML(value='')))"
      ]
     },
     "metadata": {},
     "output_type": "display_data"
    },
    {
     "name": "stdout",
     "output_type": "stream",
     "text": [
      "(500, 3, 240, 1600)\n",
      "(500, 1)\n",
      "Epoch [2/3], Step [10/11], Loss: 0.1269\n"
     ]
    },
    {
     "data": {
      "application/vnd.jupyter.widget-view+json": {
       "model_id": "8ce3cab1811c48509532b01486a2b3a2",
       "version_major": 2,
       "version_minor": 0
      },
      "text/plain": [
       "HBox(children=(IntProgress(value=0, max=500), HTML(value='')))"
      ]
     },
     "metadata": {},
     "output_type": "display_data"
    },
    {
     "name": "stdout",
     "output_type": "stream",
     "text": [
      "(500, 3, 240, 1600)\n",
      "(500, 1)\n",
      "Epoch [2/3], Step [11/11], Loss: 0.1681\n"
     ]
    },
    {
     "data": {
      "application/vnd.jupyter.widget-view+json": {
       "model_id": "96d71cb8c1114c89b48dc85cea640d4f",
       "version_major": 2,
       "version_minor": 0
      },
      "text/plain": [
       "HBox(children=(IntProgress(value=0, max=10), HTML(value='')))"
      ]
     },
     "metadata": {},
     "output_type": "display_data"
    },
    {
     "data": {
      "application/vnd.jupyter.widget-view+json": {
       "model_id": "73398b4e988147af9d8b256a545781d3",
       "version_major": 2,
       "version_minor": 0
      },
      "text/plain": [
       "HBox(children=(IntProgress(value=0, max=500), HTML(value='')))"
      ]
     },
     "metadata": {},
     "output_type": "display_data"
    },
    {
     "name": "stdout",
     "output_type": "stream",
     "text": [
      "(500, 3, 240, 1600)\n",
      "(500, 1)\n",
      "Epoch [3/3], Step [2/11], Loss: 0.1632\n"
     ]
    },
    {
     "data": {
      "application/vnd.jupyter.widget-view+json": {
       "model_id": "a2b13650ac2b4340a36d5ee98aeab978",
       "version_major": 2,
       "version_minor": 0
      },
      "text/plain": [
       "HBox(children=(IntProgress(value=0, max=500), HTML(value='')))"
      ]
     },
     "metadata": {},
     "output_type": "display_data"
    },
    {
     "name": "stdout",
     "output_type": "stream",
     "text": [
      "(500, 3, 240, 1600)\n",
      "(500, 1)\n",
      "Epoch [3/3], Step [3/11], Loss: 0.1852\n"
     ]
    },
    {
     "data": {
      "application/vnd.jupyter.widget-view+json": {
       "model_id": "5954e38d55c1461f8146e0232b5b98a4",
       "version_major": 2,
       "version_minor": 0
      },
      "text/plain": [
       "HBox(children=(IntProgress(value=0, max=500), HTML(value='')))"
      ]
     },
     "metadata": {},
     "output_type": "display_data"
    },
    {
     "name": "stdout",
     "output_type": "stream",
     "text": [
      "(500, 3, 240, 1600)\n",
      "(500, 1)\n",
      "Epoch [3/3], Step [4/11], Loss: 0.1567\n"
     ]
    },
    {
     "data": {
      "application/vnd.jupyter.widget-view+json": {
       "model_id": "3d5693a686fc4cb181e56c662c2ef56c",
       "version_major": 2,
       "version_minor": 0
      },
      "text/plain": [
       "HBox(children=(IntProgress(value=0, max=500), HTML(value='')))"
      ]
     },
     "metadata": {},
     "output_type": "display_data"
    },
    {
     "name": "stdout",
     "output_type": "stream",
     "text": [
      "(500, 3, 240, 1600)\n",
      "(500, 1)\n",
      "Epoch [3/3], Step [5/11], Loss: 0.1220\n"
     ]
    },
    {
     "data": {
      "application/vnd.jupyter.widget-view+json": {
       "model_id": "f5569dba74a345e2bcb2d124b8dd18c2",
       "version_major": 2,
       "version_minor": 0
      },
      "text/plain": [
       "HBox(children=(IntProgress(value=0, max=500), HTML(value='')))"
      ]
     },
     "metadata": {},
     "output_type": "display_data"
    },
    {
     "name": "stdout",
     "output_type": "stream",
     "text": [
      "(500, 3, 240, 1600)\n",
      "(500, 1)\n",
      "Epoch [3/3], Step [6/11], Loss: 0.1584\n"
     ]
    },
    {
     "data": {
      "application/vnd.jupyter.widget-view+json": {
       "model_id": "7ee7bb7e17e648b9b2f2f08d8452051b",
       "version_major": 2,
       "version_minor": 0
      },
      "text/plain": [
       "HBox(children=(IntProgress(value=0, max=500), HTML(value='')))"
      ]
     },
     "metadata": {},
     "output_type": "display_data"
    },
    {
     "name": "stdout",
     "output_type": "stream",
     "text": [
      "(500, 3, 240, 1600)\n",
      "(500, 1)\n",
      "Epoch [3/3], Step [7/11], Loss: 0.1674\n"
     ]
    },
    {
     "data": {
      "application/vnd.jupyter.widget-view+json": {
       "model_id": "df26d347fdc24fa58ffd3bd81377a5d0",
       "version_major": 2,
       "version_minor": 0
      },
      "text/plain": [
       "HBox(children=(IntProgress(value=0, max=500), HTML(value='')))"
      ]
     },
     "metadata": {},
     "output_type": "display_data"
    },
    {
     "name": "stdout",
     "output_type": "stream",
     "text": [
      "(500, 3, 240, 1600)\n",
      "(500, 1)\n",
      "Epoch [3/3], Step [8/11], Loss: 0.1381\n"
     ]
    },
    {
     "data": {
      "application/vnd.jupyter.widget-view+json": {
       "model_id": "44d8fb038af24dbabc90352052493950",
       "version_major": 2,
       "version_minor": 0
      },
      "text/plain": [
       "HBox(children=(IntProgress(value=0, max=500), HTML(value='')))"
      ]
     },
     "metadata": {},
     "output_type": "display_data"
    },
    {
     "name": "stdout",
     "output_type": "stream",
     "text": [
      "(500, 3, 240, 1600)\n",
      "(500, 1)\n",
      "Epoch [3/3], Step [9/11], Loss: 0.1534\n"
     ]
    },
    {
     "data": {
      "application/vnd.jupyter.widget-view+json": {
       "model_id": "83a8bcfb349d40c3bd670e32d75c2d90",
       "version_major": 2,
       "version_minor": 0
      },
      "text/plain": [
       "HBox(children=(IntProgress(value=0, max=500), HTML(value='')))"
      ]
     },
     "metadata": {},
     "output_type": "display_data"
    },
    {
     "name": "stdout",
     "output_type": "stream",
     "text": [
      "(500, 3, 240, 1600)\n",
      "(500, 1)\n",
      "Epoch [3/3], Step [10/11], Loss: 0.1182\n"
     ]
    },
    {
     "data": {
      "application/vnd.jupyter.widget-view+json": {
       "model_id": "8de5e6b658ba4a40b2492a007b0e8968",
       "version_major": 2,
       "version_minor": 0
      },
      "text/plain": [
       "HBox(children=(IntProgress(value=0, max=500), HTML(value='')))"
      ]
     },
     "metadata": {},
     "output_type": "display_data"
    },
    {
     "name": "stdout",
     "output_type": "stream",
     "text": [
      "(500, 3, 240, 1600)\n",
      "(500, 1)\n",
      "Epoch [3/3], Step [11/11], Loss: 0.1660\n",
      "\n"
     ]
    }
   ],
   "source": [
    "loss_list=[]\n",
    "for epochs in tqdm(range(num_epochs)):\n",
    "    i=0\n",
    "    for key in tqdm(range(10)):\n",
    "        i+=1\n",
    "        inputs,labels = Return_data(Li,key)\n",
    "        inputs= torch.from_numpy(inputs).to(device).float()\n",
    "        labels= torch.from_numpy(labels).to(device)\n",
    "        output = model.forward(inputs)\n",
    "        loss = torch.nn.functional.binary_cross_entropy(output,labels.float())\n",
    "        optimizer.zero_grad()\n",
    "        loss.backward()\n",
    "        optimizer.step()\n",
    "        \n",
    "        loss_list.append(loss)\n",
    "        \n",
    "        #if (i+1) % 3 == 0:\n",
    "        print ('Epoch [{}/{}], Step [{}/{}], Loss: {:.4f}' \n",
    "                .format(epochs+1, num_epochs, i+1, 11,  loss.item()))\n",
    "        \n",
    "    "
   ]
  },
  {
   "cell_type": "code",
   "execution_count": 22,
   "metadata": {},
   "outputs": [
    {
     "data": {
      "text/plain": [
       "[<matplotlib.lines.Line2D at 0x7fbd836117f0>]"
      ]
     },
     "execution_count": 22,
     "metadata": {},
     "output_type": "execute_result"
    },
    {
     "data": {
      "image/png": "[encoded data removed]",
      "text/plain": [
       "<Figure size 432x288 with 1 Axes>"
      ]
     },
     "metadata": {},
     "output_type": "display_data"
    }
   ],
   "source": [
    "plt.plot(loss_list)"
   ]
  },
  {
   "cell_type": "code",
   "execution_count": 29,
   "metadata": {},
   "outputs": [
    {
     "data": {
      "application/vnd.jupyter.widget-view+json": {
       "model_id": "d9dcd82031054a589962f7faa7d86c51",
       "version_major": 2,
       "version_minor": 0
      },
      "text/plain": [
       "HBox(children=(IntProgress(value=0, max=840), HTML(value='')))"
      ]
     },
     "metadata": {},
     "output_type": "display_data"
    },
    {
     "name": "stdout",
     "output_type": "stream",
     "text": [
      "(840, 3, 240, 1600)\n",
      "(840, 1)\n",
      "0.9726190476190476\n"
     ]
    }
   ],
   "source": [
    "with torch.no_grad():\n",
    "    model.eval()\n",
    "    inputs,labels = Return_Testdata(Li)\n",
    "    inputs= torch.from_numpy(inputs).to(device).float()\n",
    "    labels= torch.from_numpy(labels).to(device)\n",
    "    test_out = model.forward(inputs)\n",
    "    \n",
    "    test_out = test_out>0.5\n",
    "    test_out = test_out.cpu().numpy()\n",
    "    y_testset = labels.cpu().numpy()\n",
    "    correct = test_out == y_testset\n",
    "    tot=test_out.shape[0]\n",
    "    num_corr = np.sum(correct)\n",
    "\n",
    "print (num_corr/tot)"
   ]
  },
  {
   "cell_type": "code",
   "execution_count": null,
   "metadata": {},
   "outputs": [],
   "source": [
    "from sklearn.metrics import f1_score\n",
    "print(f1_score(test_out, y_testset,average='macro'))"
   ]
  }
 ],
 "metadata": {
  "kernelspec": {
   "display_name": "Python 3",
   "language": "python",
   "name": "python3"
  },
  "language_info": {
   "codemirror_mode": {
    "name": "ipython",
    "version": 3
   },
   "file_extension": ".py",
   "mimetype": "text/x-python",
   "name": "python",
   "nbconvert_exporter": "python",
   "pygments_lexer": "ipython3",
   "version": "3.6.7"
  }
 },
 "nbformat": 4,
 "nbformat_minor": 1
}
