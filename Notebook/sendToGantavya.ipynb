{
 "cells": [
  {
   "cell_type": "code",
   "execution_count": 1,
   "metadata": {},
   "outputs": [],
   "source": [
    "import numpy as np\n",
    "import tqdm\n",
    "import os\n",
    "from tqdm import tqdm_notebook as tqdm\n",
    "from PIL import Image\n",
    "import cv2"
   ]
  },
  {
   "cell_type": "code",
   "execution_count": 2,
   "metadata": {},
   "outputs": [],
   "source": [
    "def getFlow1(img1, img2):\n",
    "    flow = cv2.calcOpticalFlowFarneback(img2, img1, None, 0.5, 3, 15, 3, 5, 1.2, 0)\n",
    "    mag, ang = cv2.cartToPolar(flow[..., 0], flow[..., 1])\n",
    "    ang =  0.5 * ang * 180 / np.pi\n",
    "    mag = cv2.normalize(mag, None, 0, 255, cv2.NORM_MINMAX)\n",
    "    return ang, mag\n",
    "\n",
    "\n",
    "def getFlow2(img1, img2):\n",
    "    feature_params = dict( maxCorners = 100,\n",
    "                           qualityLevel = 0.3,\n",
    "                           minDistance = 7,\n",
    "                           blockSize = 7 )\n",
    "\n",
    "    lk_params = dict( winSize  = (15,15),\n",
    "                      maxLevel = 2,\n",
    "                      criteria = (cv2.TERM_CRITERIA_EPS | cv2.TERM_CRITERIA_COUNT, 10, 0.03))\n",
    "    p0 = cv2.goodFeaturesToTrack(img1, mask = None, **feature_params)\n",
    "    p1, st, err = cv2.calcOpticalFlowPyrLK(img1, img2, p0, None, **lk_params)\n",
    "    color = np.random.randint(0,255,(100,3))\n",
    "    mask = np.zeros_like(img1)\n",
    "\n",
    "    # Select good points\n",
    "    good_new = p1[st==1]\n",
    "    good_old = p0[st==1]\n",
    "    # draw the tracks\n",
    "    for i,(new,old) in enumerate(zip(good_new,good_old)):\n",
    "        a,b = new.ravel()\n",
    "        c,d = old.ravel()\n",
    "        mask = cv2.line(mask, (a,b),(c,d), color[i].tolist(), 2)\n",
    "\n",
    "    return mask\n",
    "\n",
    "def getCanny(img, t1, t2):\n",
    "    return cv2.Canny(img, t1, t2)\n",
    "\n",
    "\n",
    "\n",
    "def getFourier(img):\n",
    "    f = np.fft.fft2(img)\n",
    "    fshift = np.fft.fftshift(f)\n",
    "    magnitude_spectrum = 20*np.log(np.abs(fshift))\n",
    "    return magnitude_spectrum\n",
    "\n",
    "\n",
    "def getJET(img):\n",
    "    f = np.fft.fft2(img)\n",
    "    fshift = np.fft.fftshift(f)\n",
    "    rows, cols = img.shape\n",
    "    crow,ccol = rows/2 , cols/2\n",
    "    crow = int(crow)\n",
    "    ccol = int(ccol)\n",
    "    fshift[crow-30:crow+30, ccol-30:ccol+30] = 0\n",
    "    f_ishift = np.fft.ifftshift(fshift)\n",
    "    img_back = np.fft.ifft2(f_ishift)\n",
    "    img_back = np.abs(img_back)\n",
    "    return img_back"
   ]
  },
  {
   "cell_type": "code",
   "execution_count": null,
   "metadata": {},
   "outputs": [
    {
     "data": {
      "application/vnd.jupyter.widget-view+json": {
       "model_id": "70b3bf2f92e54d06ade768911f0e1166",
       "version_major": 2,
       "version_minor": 0
      },
      "text/plain": [
       "HBox(children=(IntProgress(value=0, max=583), HTML(value='')))"
      ]
     },
     "metadata": {},
     "output_type": "display_data"
    },
    {
     "name": "stdout",
     "output_type": "stream",
     "text": [
      "D:\\Academics\\Sem6\\Deep Learning\\DL_A2\\new\\1\n"
     ]
    },
    {
     "data": {
      "application/vnd.jupyter.widget-view+json": {
       "model_id": "aa4a28e29d7d4066b664c82620cfa0a9",
       "version_major": 2,
       "version_minor": 0
      },
      "text/plain": [
       "HBox(children=(IntProgress(value=0, max=50), HTML(value='')))"
      ]
     },
     "metadata": {},
     "output_type": "display_data"
    },
    {
     "name": "stdout",
     "output_type": "stream",
     "text": [
      "D:\\Academics\\Sem6\\Deep Learning\\DL_A2\\new\\10\n"
     ]
    },
    {
     "data": {
      "application/vnd.jupyter.widget-view+json": {
       "model_id": "f1dea84071b245c78a4c6d462f3ee4e2",
       "version_major": 2,
       "version_minor": 0
      },
      "text/plain": [
       "HBox(children=(IntProgress(value=0, max=50), HTML(value='')))"
      ]
     },
     "metadata": {},
     "output_type": "display_data"
    },
    {
     "name": "stdout",
     "output_type": "stream",
     "text": [
      "D:\\Academics\\Sem6\\Deep Learning\\DL_A2\\new\\100\n"
     ]
    },
    {
     "data": {
      "application/vnd.jupyter.widget-view+json": {
       "model_id": "21e489980e914a03a1f332018b855573",
       "version_major": 2,
       "version_minor": 0
      },
      "text/plain": [
       "HBox(children=(IntProgress(value=0, max=50), HTML(value='')))"
      ]
     },
     "metadata": {},
     "output_type": "display_data"
    },
    {
     "name": "stdout",
     "output_type": "stream",
     "text": [
      "D:\\Academics\\Sem6\\Deep Learning\\DL_A2\\new\\101\n"
     ]
    },
    {
     "data": {
      "application/vnd.jupyter.widget-view+json": {
       "model_id": "0d2709890b1f411a86b97c1b328b2bed",
       "version_major": 2,
       "version_minor": 0
      },
      "text/plain": [
       "HBox(children=(IntProgress(value=0, max=50), HTML(value='')))"
      ]
     },
     "metadata": {},
     "output_type": "display_data"
    },
    {
     "name": "stdout",
     "output_type": "stream",
     "text": [
      "D:\\Academics\\Sem6\\Deep Learning\\DL_A2\\new\\102\n"
     ]
    },
    {
     "data": {
      "application/vnd.jupyter.widget-view+json": {
       "model_id": "693b356b4311442bb6885e9827a28de4",
       "version_major": 2,
       "version_minor": 0
      },
      "text/plain": [
       "HBox(children=(IntProgress(value=0, max=50), HTML(value='')))"
      ]
     },
     "metadata": {},
     "output_type": "display_data"
    },
    {
     "name": "stdout",
     "output_type": "stream",
     "text": [
      "D:\\Academics\\Sem6\\Deep Learning\\DL_A2\\new\\103\n"
     ]
    },
    {
     "data": {
      "application/vnd.jupyter.widget-view+json": {
       "model_id": "288856ef26f3482780cb3261fd02b373",
       "version_major": 2,
       "version_minor": 0
      },
      "text/plain": [
       "HBox(children=(IntProgress(value=0, max=50), HTML(value='')))"
      ]
     },
     "metadata": {},
     "output_type": "display_data"
    },
    {
     "name": "stdout",
     "output_type": "stream",
     "text": [
      "D:\\Academics\\Sem6\\Deep Learning\\DL_A2\\new\\104\n"
     ]
    },
    {
     "data": {
      "application/vnd.jupyter.widget-view+json": {
       "model_id": "4b66331e14b04b4fb5e3a8226bbdf9ce",
       "version_major": 2,
       "version_minor": 0
      },
      "text/plain": [
       "HBox(children=(IntProgress(value=0, max=50), HTML(value='')))"
      ]
     },
     "metadata": {},
     "output_type": "display_data"
    },
    {
     "name": "stdout",
     "output_type": "stream",
     "text": [
      "D:\\Academics\\Sem6\\Deep Learning\\DL_A2\\new\\105\n"
     ]
    }
   ],
   "source": [
    "root = root = \"D:\\\\Academics\\\\Sem6\\\\Deep Learning\\\\DL_A2\\\\new\\\\\"\n",
    "npy_directory = 'D:\\\\Academics\\\\Sem6\\\\Deep Learning\\\\DL_A2\\\\npy\\\\'\n",
    "my_data = np.empty((1))\n",
    "flag = False\n",
    "for ix in tqdm(os.listdir(root)): \n",
    "    folder = os.path.join(root, ix)\n",
    "    print(folder)\n",
    "    read = lambda imname: np.asarray((Image.open(imname).convert(\"L\")).resize((320, 240), Image.ANTIALIAS))\n",
    "    ims = [read(os.path.join(folder, filename)) for filename in os.listdir(folder)]\n",
    "    im_array = np.array(ims, dtype='uint8')    \n",
    "    \n",
    "    ch1_arr = np.empty((1))\n",
    "    ch2_arr = np.empty((1))\n",
    "    ch3_arr = np.empty((1))\n",
    "    ch4_arr = np.empty((1))\n",
    "    ch5_arr = np.empty((1))\n",
    "    ch6_arr = np.empty((1))\n",
    "    \n",
    "    for i in tqdm(range(im_array.shape[0])):\n",
    "        img1 = im_array[i]\n",
    "        if(i !=im_array.shape[0] - 1):\n",
    "            img2 = im_array[i+1]\n",
    "        else:\n",
    "            img2 = im_array[i]\n",
    "        ch1, ch2 = getFlow1(img1, img2)\n",
    "        ch3 = getFlow2(img1, img2)\n",
    "        ch4 = getCanny(img1, 50, 50)\n",
    "        ch5 = getFourier(img1)\n",
    "        ch6 = getJET(img1)\n",
    "        \n",
    "        if(i == 0):\n",
    "            ch1_arr = np.expand_dims(ch1, axis = 0)\n",
    "        else:\n",
    "            ch1_arr = np.concatenate((ch1_arr, np.expand_dims(ch1, axis = 0)), axis = 0)\n",
    "        \n",
    "        if(i == 0):\n",
    "            ch2_arr = np.expand_dims(ch2, axis = 0)\n",
    "        else:\n",
    "            ch2_arr = np.concatenate((ch2_arr, np.expand_dims(ch2, axis = 0)), axis = 0)\n",
    "            \n",
    "        if(i == 0):\n",
    "            ch3_arr = np.expand_dims(ch3, axis = 0)\n",
    "        else:\n",
    "            ch3_arr = np.concatenate((ch3_arr, np.expand_dims(ch3, axis = 0)), axis = 0)\n",
    "            \n",
    "        if(i == 0):\n",
    "            ch4_arr = np.expand_dims(ch4, axis = 0)\n",
    "        else:\n",
    "            ch4_arr = np.concatenate((ch4_arr, np.expand_dims(ch4, axis = 0)), axis = 0)\n",
    "            \n",
    "        if(i == 0):\n",
    "            ch5_arr = np.expand_dims(ch5, axis = 0)\n",
    "        else:\n",
    "            ch5_arr = np.concatenate((ch5_arr, np.expand_dims(ch5, axis = 0)), axis = 0)\n",
    "            \n",
    "        if(i == 0):\n",
    "            ch6_arr = np.expand_dims(ch6, axis = 0)\n",
    "        else:\n",
    "            ch6_arr = np.concatenate((ch6_arr, np.expand_dims(ch6, axis = 0)), axis = 0)\n",
    "            \n",
    "    im_array = np.expand_dims(im_array, axis = 3)\n",
    "    ch1_arr = np.expand_dims(ch1_arr, axis = 3)\n",
    "    ch2_arr = np.expand_dims(ch2_arr, axis = 3)\n",
    "    ch3_arr = np.expand_dims(ch3_arr, axis = 3)\n",
    "    ch4_arr = np.expand_dims(ch4_arr, axis = 3)\n",
    "    ch5_arr = np.expand_dims(ch5_arr, axis = 3)\n",
    "    ch6_arr = np.expand_dims(ch6_arr, axis = 3)\n",
    "    \n",
    "    \n",
    "    \n",
    "    arr = np.concatenate((im_array, ch1_arr), axis = 3)\n",
    "    arr = np.concatenate((arr, ch2_arr), axis = 3)\n",
    "    arr = np.concatenate((arr, ch3_arr), axis = 3)\n",
    "    arr = np.concatenate((arr, ch4_arr), axis = 3)\n",
    "    arr = np.concatenate((arr, ch5_arr), axis = 3)\n",
    "    arr = np.concatenate((arr, ch6_arr), axis = 3)\n",
    "    \n",
    "    \n",
    "    if(flag == False):\n",
    "        my_data = np.expand_dims(arr, axis = 0)\n",
    "        flag = True\n",
    "    else:\n",
    "        my_data = np.concatenate((my_data, np.expand_dims(arr, axis = 0)), axis = 0)\n",
    "    \n",
    "    np.save(npy_directory+ix, arr)\n",
    "    \n"
   ]
  },
  {
   "cell_type": "code",
   "execution_count": null,
   "metadata": {},
   "outputs": [],
   "source": [
    "arr.shape"
   ]
  },
  {
   "cell_type": "code",
   "execution_count": null,
   "metadata": {},
   "outputs": [],
   "source": [
    "%matplotlib notebook"
   ]
  },
  {
   "cell_type": "code",
   "execution_count": null,
   "metadata": {},
   "outputs": [],
   "source": [
    "import matplotlib.pyplot as plt"
   ]
  },
  {
   "cell_type": "code",
   "execution_count": null,
   "metadata": {},
   "outputs": [],
   "source": []
  },
  {
   "cell_type": "code",
   "execution_count": null,
   "metadata": {},
   "outputs": [],
   "source": []
  }
 ],
 "metadata": {
  "kernelspec": {
   "display_name": "Python 3",
   "language": "python",
   "name": "python3"
  },
  "language_info": {
   "codemirror_mode": {
    "name": "ipython",
    "version": 3
   },
   "file_extension": ".py",
   "mimetype": "text/x-python",
   "name": "python",
   "nbconvert_exporter": "python",
   "pygments_lexer": "ipython3",
   "version": "3.6.7"
  }
 },
 "nbformat": 4,
 "nbformat_minor": 2
}
