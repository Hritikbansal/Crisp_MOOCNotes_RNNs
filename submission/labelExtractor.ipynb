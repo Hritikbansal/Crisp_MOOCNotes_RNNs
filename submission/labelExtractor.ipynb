{
 "cells": [
  {
   "cell_type": "code",
   "execution_count": null,
   "metadata": {},
   "outputs": [],
   "source": [
    "    import os \n",
    "    import numpy as  np\n",
    "    from shutil import copy2\n",
    "    from tqdm import tqdm_notebook as tqdm\n",
    "    import math\n",
    "    import pandas as pd"
   ]
  },
  {
   "cell_type": "code",
   "execution_count": 1,
   "metadata": {},
   "outputs": [],
   "source": [
    "from distutils.dir_util import copy_tree"
   ]
  },
  {
   "cell_type": "code",
   "execution_count": null,
   "metadata": {},
   "outputs": [],
   "source": [
    "root = 'D:\\\\Academics\\\\Sem6\\\\Deep Learning\\\\DL_A2\\\\Training\\\\frames\\\\'"
   ]
  },
  {
   "cell_type": "code",
   "execution_count": null,
   "metadata": {},
   "outputs": [],
   "source": [
    "Tx=50;fol=0\n",
    "\n",
    "lister = (os.listdir(root))\n",
    "for l in tqdm(range(len(lister))):\n",
    "    print(lister[l]+' '+str(fol))\n",
    "    j=0\n",
    "    root2 = os.path.join(root,lister[l])\n",
    "    im_list = os.listdir(root2)\n",
    "    images_in_lecture = len(im_list)\n",
    "    tot_chunks = math.ceil(images_in_lecture/Tx)\n",
    "    os.mkdir('D:\\\\Academics\\\\Sem6\\\\Deep Learning\\\\DL_A2\\\\copied\\\\'+str(fol+1))\n",
    "    for i in tqdm(range(tot_chunks-1)):\n",
    "        while j<=images_in_lecture:\n",
    "            src= os.path.join(root2, im_list[j])\n",
    "            dst= 'D:\\\\Academics\\\\Sem6\\\\Deep Learning\\\\DL_A2\\\\copied\\\\'+str(fol+i+1)+'\\\\'\n",
    "            copy2(src, dst)\n",
    "            j+=1\n",
    "            if j%Tx==0:\n",
    "                break\n",
    "        os.mkdir('D:\\\\Academics\\\\Sem6\\\\Deep Learning\\\\DL_A2\\\\copied\\\\'+str(fol+i+2))\n",
    "    \n",
    "    j= images_in_lecture-Tx\n",
    "\n",
    "    while j<images_in_lecture:\n",
    "        src= os.path.join(root2, im_list[j])\n",
    "        dst= 'D:\\\\Academics\\\\Sem6\\\\Deep Learning\\\\DL_A2\\\\copied\\\\'+str(fol+tot_chunks)\n",
    "        copy2(src, dst)\n",
    "        j+=1\n",
    "    fol+=tot_chunks\n",
    "            \n",
    "        "
   ]
  },
  {
   "cell_type": "code",
   "execution_count": null,
   "metadata": {},
   "outputs": [],
   "source": [
    "root_l = 'D:\\\\Academics\\\\Sem6\\\\Deep Learning\\\\DL_A2\\\\Training\\\\labels\\\\lec1.csv'"
   ]
  },
  {
   "cell_type": "code",
   "execution_count": null,
   "metadata": {},
   "outputs": [],
   "source": [
    "Tx=50;fol=0\n",
    "\n",
    "root_l='D:\\\\Academics\\\\Sem6\\\\Deep Learning\\\\DL_A2\\\\Training\\\\labels\\\\'\n",
    "label_list_lec = os.listdir(root_l)\n",
    "lister = (os.listdir(root))\n",
    "for l in tqdm(range(len(lister))):\n",
    "    j=0\n",
    "    root2 = os.path.join(root,lister[l])  \n",
    "    csv = root_l+label_list_lec[l] #location of the csv to read the labels\n",
    "    array = np.asarray(pd.read_csv(csv))\n",
    "    array = np.reshape(array, (-1,))\n",
    "    labels_list = (array).tolist() \n",
    "    labels_list.insert(0, 0)\n",
    "    # read the csv to numpy\n",
    "    im_list = os.listdir(root2)\n",
    "    images_in_lecture = len(im_list)\n",
    "    tot_chunks = math.ceil(images_in_lecture/Tx)\n",
    "    for i in tqdm(range(tot_chunks-1)):\n",
    "        labels_in_list=[]\n",
    "        while j<=images_in_lecture:\n",
    "            labels_in_list.append(labels_list[j])\n",
    "            dst= 'D:\\\\Academics\\\\Sem6\\\\Deep Learning\\\\DL_A2\\\\copied_labels\\\\'+str(fol+i+1)+'.npy'\n",
    "            j+=1\n",
    "            if j%Tx==0:\n",
    "                truth = np.asarray(labels_in_list)\n",
    "                np.save(dst,truth)\n",
    "                break\n",
    "                \n",
    "    j= images_in_lecture-Tx\n",
    "    labels_in_list=[]\n",
    "    while j<images_in_lecture:\n",
    "        labels_in_list.append(labels_list[j])\n",
    "        dst= 'D:\\\\Academics\\\\Sem6\\\\Deep Learning\\\\DL_A2\\\\copied_labels\\\\'+str(fol+tot_chunks)+'.npy'\n",
    "        j+=1\n",
    "    truth = np.asarray(labels_in_list)\n",
    "    np.save(dst,truth)    \n",
    "    fol+=tot_chunks           \n",
    "        "
   ]
  },
  {
   "cell_type": "code",
   "execution_count": null,
   "metadata": {},
   "outputs": [],
   "source": []
  },
  {
   "cell_type": "code",
   "execution_count": null,
   "metadata": {},
   "outputs": [],
   "source": []
  }
 ],
 "metadata": {
  "kernelspec": {
   "display_name": "Python 3",
   "language": "python",
   "name": "python3"
  },
  "language_info": {
   "codemirror_mode": {
    "name": "ipython",
    "version": 3
   },
   "file_extension": ".py",
   "mimetype": "text/x-python",
   "name": "python",
   "nbconvert_exporter": "python",
   "pygments_lexer": "ipython3",
   "version": "3.6.7"
  }
 },
 "nbformat": 4,
 "nbformat_minor": 2
}
