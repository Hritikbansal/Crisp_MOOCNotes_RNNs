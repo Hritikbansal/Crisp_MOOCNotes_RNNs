{
  "nbformat": 4,
  "nbformat_minor": 0,
  "metadata": {
    "colab": {
      "name": "ELL_A2_CNN_LSTM.ipynb",
      "version": "0.3.2",
      "provenance": []
    },
    "kernelspec": {
      "name": "python3",
      "display_name": "Python 3"
    },
    "accelerator": "GPU"
  },
  "cells": [
    {
      "metadata": {
        "id": "9vo5PGU7HMP8",
        "colab_type": "code",
        "outputId": "952ff7ce-61d6-4feb-8032-bb6298c592e4",
        "colab": {
          "base_uri": "https://localhost:8080/",
          "height": 122
        }
      },
      "cell_type": "code",
      "source": [
        "from google.colab import drive\n",
        "drive.mount('/content/gdrive')"
      ],
      "execution_count": 0,
      "outputs": [
        {
          "output_type": "stream",
          "text": [
            "Go to this URL in a browser: https://accounts.google.com/o/oauth2/auth?client_id=947318989803-6bn6qk8qdgf4n4g3pfee6491hc0brc4i.apps.googleusercontent.com&redirect_uri=urn%3Aietf%3Awg%3Aoauth%3A2.0%3Aoob&scope=email%20https%3A%2F%2Fwww.googleapis.com%2Fauth%2Fdocs.test%20https%3A%2F%2Fwww.googleapis.com%2Fauth%2Fdrive%20https%3A%2F%2Fwww.googleapis.com%2Fauth%2Fdrive.photos.readonly%20https%3A%2F%2Fwww.googleapis.com%2Fauth%2Fpeopleapi.readonly&response_type=code\n",
            "\n",
            "Enter your authorization code:\n",
            "··········\n",
            "Mounted at /content/gdrive\n"
          ],
          "name": "stdout"
        }
      ]
    },
    {
      "metadata": {
        "id": "q5geAglPJIzk",
        "colab_type": "code",
        "outputId": "9193e2dc-9371-4c24-c159-ec78e7a86c35",
        "colab": {
          "base_uri": "https://localhost:8080/",
          "height": 34
        }
      },
      "cell_type": "code",
      "source": [
        "cd /content/gdrive/My\\ Drive/"
      ],
      "execution_count": 0,
      "outputs": [
        {
          "output_type": "stream",
          "text": [
            "/content/gdrive/My Drive\n"
          ],
          "name": "stdout"
        }
      ]
    },
    {
      "metadata": {
        "id": "1vVTaG4vJO6i",
        "colab_type": "code",
        "outputId": "e62ef44d-6d61-4371-b8e0-024de308a117",
        "colab": {
          "base_uri": "https://localhost:8080/",
          "height": 34
        }
      },
      "cell_type": "code",
      "source": [
        "cd A2"
      ],
      "execution_count": 0,
      "outputs": [
        {
          "output_type": "stream",
          "text": [
            "/content/gdrive/My Drive/A2\n"
          ],
          "name": "stdout"
        }
      ]
    },
    {
      "metadata": {
        "id": "3CVL0FG_Wb6D",
        "colab_type": "code",
        "colab": {}
      },
      "cell_type": "code",
      "source": [
        "import numpy as np\n",
        "image_x = 240\n",
        "image_y = 320"
      ],
      "execution_count": 0,
      "outputs": []
    },
    {
      "metadata": {
        "id": "PH7LJZB5Vk5I",
        "colab_type": "code",
        "colab": {}
      },
      "cell_type": "code",
      "source": [
        "def createBatches(listOfImages, labelsForThisFolder, batchSize):\n",
        "  print(\"Begin making batches\")\n",
        "  listOfImageBatches = []\n",
        "  listOfLabelBatches = []\n",
        "  totalNumberOfImages = len(listOfImages)\n",
        "\n",
        "  print(\"Total Number of Images in this lecture: \", totalNumberOfImages)\n",
        "  \n",
        "  pointer = 0\n",
        "  while(pointer < totalNumberOfImages):\n",
        "    if(pointer + batchSize <= totalNumberOfImages):\n",
        "      listOfImageBatches.append(np.asarray(listOfImages[pointer:pointer+batchSize]))\n",
        "      listOfLabelBatches.append(labelsForThisFolder[pointer:pointer+batchSize])\n",
        "      \n",
        "    else:\n",
        "      if((totalNumberOfImages - batchSize) % batchSize > batchSize/3):\n",
        "        holder_images = np.zeros((batchSize, image_x, image_y))  # this is the last batch where the number of images is less than the batch size; do padding\n",
        "        holder_images[0:totalNumberOfImages - pointer, :, :] = np.asarray(np.asarray(listOfImages[pointer:totalNumberOfImages]))\n",
        "        listOfImageBatches.append(holder_images)\n",
        "      \n",
        "        holder_labels = np.zeros((batchSize, 1))\n",
        "        holder_labels[0:totalNumberOfImages - pointer, :] = labelsForThisFolder[pointer:totalNumberOfImages]\n",
        "        listOfLabelBatches.append(holder_labels)\n",
        "\n",
        "  return listOfImageBatches, listOfLabelBatches"
      ],
      "execution_count": 0,
      "outputs": []
    },
    {
      "metadata": {
        "id": "nHiQ88AW_185",
        "colab_type": "code",
        "outputId": "68e6cc48-ab38-4306-8c7a-fdf053f8b99f",
        "colab": {
          "base_uri": "https://localhost:8080/",
          "height": 102
        }
      },
      "cell_type": "code",
      "source": [
        "import os\n",
        "import cv2\n",
        "import pandas as pd\n",
        "\n",
        "batchSize = 500\n",
        "listOfImageBatchesForAllLectures = []\n",
        "listOfLabelBatchesForAllLectures = []\n",
        "\n",
        "for lectureNumber in os.listdir(\"/content/gdrive/My Drive/A2/frames\"):\n",
        "  if('lec' in lectureNumber):\n",
        "    listOfImages = []\n",
        "    print(\"lectureNumber: \", lectureNumber)\n",
        "\n",
        "    labelsForThisFolder = pd.read_csv(\"/content/gdrive/My Drive/A2/labels/{}.csv\".format(lectureNumber), header = None)\n",
        "    labelsForThisFolder = np.asarray(labelsForThisFolder)\n",
        "    print(\"Number of slides in this folder: \", np.shape(labelsForThisFolder))\n",
        "    if(np.size(labelsForThisFolder) > 700):\n",
        "      print(\"Rejected\")\n",
        "      continue\n",
        "\n",
        "    for imageName in os.listdir(os.path.join(\"/content/gdrive/My Drive/A2/frames\", lectureNumber)):\n",
        "      imageFile = cv2.imread(os.path.join(\"/content/gdrive/My Drive/A2/frames\", lectureNumber, imageName))\n",
        "      if(imageFile is None):\n",
        "#         exists = os.path.isfile(os.path.join(\"/content/gdrive/My Drive/A2/frames\", lectureNumber, imageName))\n",
        "        listOfImages.append(np.zeros((240, 320)))\n",
        "        continue\n",
        "\n",
        "      image_gray = cv2.cvtColor(imageFile, cv2.COLOR_BGR2GRAY)\n",
        "      image_gray_resized = cv2.resize(image_gray, (320, 240))\n",
        "      listOfImages.append(np.asarray(image_gray_resized))\n",
        "\n",
        "    print(\"All images and labels loaded.\")\n",
        "\n",
        "    listOfImageBatchesForThisLecture, listOfLabelBatchesForThisLecture = createBatches(listOfImages, labelsForThisFolder, batchSize)\n",
        "    listOfImageBatchesForAllLectures += listOfImageBatchesForThisLecture\n",
        "    listOfLabelBatchesForAllLectures += listOfLabelBatchesForThisLecture\n",
        "    \n",
        "    print(\"-----\")\n",
        "\n",
        "print(\"Total Number of batches in complete data: \", len(listOfImageBatchesForAllLectures))"
      ],
      "execution_count": 0,
      "outputs": [
        {
          "output_type": "stream",
          "text": [
            "lectureNumber:  lec22\n",
            "Number of slides in this folder:  (411, 1)\n",
            "All images and labels loaded.\n",
            "Begin making batches\n",
            "Total Number of Images in this lecture:  411\n"
          ],
          "name": "stdout"
        }
      ]
    },
    {
      "metadata": {
        "id": "oe47AI1yCBSi",
        "colab_type": "code",
        "outputId": "2ae2e5bd-c07c-4171-c5c5-63de193f60f2",
        "colab": {
          "base_uri": "https://localhost:8080/",
          "height": 51
        }
      },
      "cell_type": "code",
      "source": [
        "x = np.expand_dims(np.asarray(listOfImageBatchesForAllLectures), 4)\n",
        "y = np.asarray(listOfLabelBatchesForAllLectures)\n",
        "y = np.reshape(y, (-1, batchSize))\n",
        "\n",
        "print(np.shape(x))\n",
        "print(np.shape(y))"
      ],
      "execution_count": 0,
      "outputs": [
        {
          "output_type": "stream",
          "text": [
            "(1, 500, 240, 320, 1)\n",
            "(1, 500)\n"
          ],
          "name": "stdout"
        }
      ]
    },
    {
      "metadata": {
        "id": "4JY_1thbhpfa",
        "colab_type": "code",
        "colab": {}
      },
      "cell_type": "code",
      "source": [
        "for i in range(np.shape(y)[0]):\n",
        "  for j in range(np.shape(y)[1]):\n",
        "    if(y[i, j] == 1):\n",
        "      y[i, j-2:j+3] = 1"
      ],
      "execution_count": 0,
      "outputs": []
    },
    {
      "metadata": {
        "id": "ok9X-qxdkepi",
        "colab_type": "code",
        "colab": {}
      },
      "cell_type": "code",
      "source": [
        "from sklearn.model_selection import train_test_split\n",
        "x_train, x_test, y_train, y_test = train_test_split(x, y, test_size=0, shuffle= True)"
      ],
      "execution_count": 0,
      "outputs": []
    },
    {
      "metadata": {
        "id": "uihgTmQ3-Rzg",
        "colab_type": "code",
        "outputId": "9e9cc627-5251-4ee3-e31c-d81252d15df8",
        "colab": {
          "base_uri": "https://localhost:8080/",
          "height": 156
        }
      },
      "cell_type": "code",
      "source": [
        "num_classes = 2\n",
        "\n",
        "from keras.models import Sequential\n",
        "from keras.layers import Conv2D, MaxPooling2D, Flatten, TimeDistributed, BatchNormalization, Bidirectional, CuDNNLSTM\n",
        "from keras.layers.core import Dense, Activation, Dropout\n",
        "\n",
        "model = Sequential()\n",
        "\n",
        "model.add(TimeDistributed(Conv2D(32, (7, 7), strides = (5, 5), activation = 'relu', padding = 'same'), input_shape = (500, 240, 320, 1)))\n",
        "model.add(TimeDistributed(Conv2D(32, (3, 3), kernel_initializer = \"he_normal\", activation = 'relu')))\n",
        "model.add(TimeDistributed(MaxPooling2D((2, 2), strides = (2, 2))))\n",
        "\n",
        "model.add(TimeDistributed(Conv2D(64, (3, 3), padding = 'same', activation = 'relu')))\n",
        "model.add(TimeDistributed(Conv2D(64, (3, 3), padding = 'same', activation = 'relu')))\n",
        "model.add(TimeDistributed(MaxPooling2D((2, 2), strides = (2, 2))))\n",
        "\n",
        "model.add(TimeDistributed(Conv2D(128, (3, 3), padding = 'same', activation = 'relu')))\n",
        "model.add(TimeDistributed(Conv2D(128, (3, 3), padding = 'same', activation = 'relu')))\n",
        "model.add(TimeDistributed(MaxPooling2D((2, 2), strides = (2, 2))))\n",
        "\n",
        "model.add(TimeDistributed(Conv2D(256, (3, 3), padding = 'same', activation = 'relu')))\n",
        "model.add(TimeDistributed(Conv2D(256, (3, 3), padding = 'same', activation = 'relu')))\n",
        "model.add(TimeDistributed(BatchNormalization()))\n",
        "model.add(TimeDistributed(MaxPooling2D((2, 2), strides = (2, 2))))\n",
        "\n",
        "model.add(TimeDistributed(Flatten()))\n",
        "\n",
        "model.add(Dropout(0.5))\n",
        "model.add(Bidirectional(CuDNNLSTM(256, return_sequences = False)))\n",
        "model.add(BatchNormalization())\n",
        "model.add(Dropout(0.5))\n",
        "model.add(Dense(500, activation = 'softmax'))"
      ],
      "execution_count": 0,
      "outputs": [
        {
          "output_type": "stream",
          "text": [
            "Using TensorFlow backend.\n"
          ],
          "name": "stderr"
        },
        {
          "output_type": "stream",
          "text": [
            "WARNING:tensorflow:From /usr/local/lib/python3.6/dist-packages/tensorflow/python/framework/op_def_library.py:263: colocate_with (from tensorflow.python.framework.ops) is deprecated and will be removed in a future version.\n",
            "Instructions for updating:\n",
            "Colocations handled automatically by placer.\n",
            "WARNING:tensorflow:From /usr/local/lib/python3.6/dist-packages/keras/backend/tensorflow_backend.py:3445: calling dropout (from tensorflow.python.ops.nn_ops) with keep_prob is deprecated and will be removed in a future version.\n",
            "Instructions for updating:\n",
            "Please use `rate` instead of `keep_prob`. Rate should be set to `rate = 1 - keep_prob`.\n"
          ],
          "name": "stdout"
        }
      ]
    },
    {
      "metadata": {
        "id": "665lZsKD5ik6",
        "colab_type": "code",
        "colab": {}
      },
      "cell_type": "code",
      "source": [
        "from keras.optimizers import Adam\n",
        "\n",
        "opt = Adam(lr=0.1, beta_1=0.9, beta_2=0.99, decay=0.01)\n",
        "model.compile(loss='binary_crossentropy', optimizer=opt, metrics=[\"accuracy\"])\n",
        "model.fit(x_train, y_train, nb_epoch=15, batch_size=1, validation_split=0, verbose = 2)"
      ],
      "execution_count": 0,
      "outputs": []
    }
  ]
}